{
  "nbformat": 4,
  "nbformat_minor": 0,
  "metadata": {
    "colab": {
      "name": "Tubes_PCVK_Nadia_Tita.ipynb",
      "provenance": [],
      "collapsed_sections": [],
      "include_colab_link": true
    },
    "kernelspec": {
      "name": "python3",
      "display_name": "Python 3"
    },
    "language_info": {
      "name": "python"
    }
  },
  "cells": [
    {
      "cell_type": "markdown",
      "metadata": {
        "id": "view-in-github",
        "colab_type": "text"
      },
      "source": [
        "<a href=\"https://colab.research.google.com/github/NadiaLayraAziza/PCVK_Genap_2022/blob/main/Tubes_PCVK_Nadia_Tita.ipynb\" target=\"_parent\"><img src=\"https://colab.research.google.com/assets/colab-badge.svg\" alt=\"Open In Colab\"/></a>"
      ]
    },
    {
      "cell_type": "code",
      "execution_count": null,
      "metadata": {
        "colab": {
          "base_uri": "https://localhost:8080/"
        },
        "id": "IRsAQ61CtZDd",
        "outputId": "320b2fef-0ef9-462a-be80-58b04575b16e"
      },
      "outputs": [
        {
          "output_type": "stream",
          "name": "stdout",
          "text": [
            "Drive already mounted at /content/drive; to attempt to forcibly remount, call drive.mount(\"/content/drive\", force_remount=True).\n"
          ]
        }
      ],
      "source": [
        "from google.colab import drive\n",
        "drive.mount('/content/drive')"
      ]
    },
    {
      "cell_type": "markdown",
      "source": [
        "# Canny dan Hitung luas berdasarkan ukuran X dan Y"
      ],
      "metadata": {
        "id": "7yA2-iidPhZt"
      }
    },
    {
      "cell_type": "code",
      "source": [
        "# Import library\n",
        "import cv2\n",
        "from google.colab.patches import cv2_imshow\n",
        "import numpy as np\n",
        "from matplotlib import pyplot as plt\n",
        "import math\n",
        "\n",
        "image = cv2.imread(\"/content/drive/MyDrive/PCVK/FinalProject/Square_cf5f3a36-2a9a-11ea-8123-8363a7ec19e6.png\")\n",
        "print(\"Image Asli\")\n",
        "cv2_imshow(image)\n",
        "\n",
        "result = image.copy()\n",
        "\n",
        "# Convert BGR to HSV\n",
        "hsv = cv2.cvtColor(image, cv2.COLOR_BGR2HSV)\n",
        "\n",
        "# define range of mask color in HSV\n",
        "# Mask Blue\n",
        "lower_mask = np.array([90,100,145])\n",
        "upper_mask = np.array([120,255,255])\n",
        "# Mask Red\n",
        "# lower_mask = np.array([136,87,111])\n",
        "# upper_mask = np.array([180,255,255])\n",
        "# Mask Yellow\n",
        "# lower_mask = np.array([22,60,200])\n",
        "# upper_mask = np.array([60,255,255])\n",
        "\n",
        "# Threshold the HSV image to get only mask colors\n",
        "full_mask = cv2.inRange(hsv, lower_mask, upper_mask)\n",
        "print(\"Masking warna pada HSV untuk mendapatkan warna objek yang diinginkan\")\n",
        "cv2_imshow(full_mask)\n",
        "\n",
        "result = cv2.bitwise_and(result, result, mask=full_mask)\n",
        "print(\"Hasil Konversi RGB ke HSV\")\n",
        "cv2_imshow(result)\n",
        "\n",
        "# Deteksi tepi objek dengan canny\n",
        "edges = cv2.Canny(result,150,300)\n",
        "print(\"Hasil deteksi bentuk objek dengan canny\")\n",
        "cv2_imshow(edges)\n",
        "\n",
        "# Mencari Kontur dari hasil canny edge dan mengaplikasikannya ke image asli\n",
        "(cnts, _) = cv2.findContours(edges, cv2.RETR_EXTERNAL, cv2.CHAIN_APPROX_SIMPLE)\n",
        "\n",
        "for cnts in cnts:\n",
        "  # cv2.approxPloyDP() function to approximate the shape\n",
        "    approx = cv2.approxPolyDP(\n",
        "        cnts, 0.01 * cv2.arcLength(cnts, True), True)\n",
        "      \n",
        "    # using drawContours() function\n",
        "    cv2.drawContours(result, [cnts], 0, (0, 255, 0), 2)\n",
        "    \n",
        "    # Proses mencari lebar & tinggi untuk menghitung Luas Objek\n",
        "    x,y,w,h = cv2.boundingRect(edges)\n",
        "    width_cm = w*0.026458\n",
        "    heigt_cm = h*0.026458\n",
        "  \n",
        "    # putting shape name at center of each shape\n",
        "    if len(approx) == 3:\n",
        "        print(\"Segitiga\")\n",
        "        luas = 0.5*width_cm*heigt_cm\n",
        "        hipotenusa = int(math.sqrt(heigt_cm ** 2 + width_cm ** 2))\n",
        "        keliling = width_cm + (2*hipotenusa)\n",
        "  \n",
        "    elif len(approx) == 4:\n",
        "        print(\"Segi Empat\")\n",
        "        luas = width_cm*heigt_cm\n",
        "        keliling = (2*width_cm)+(2*heigt_cm)\n",
        "  \n",
        "    else:\n",
        "        print(\"Lingkaran\")\n",
        "        luas = 3.14*((width_cm/2)**2)\n",
        "        keliling = 2*3.14*(width_cm/2)\n",
        "  \n",
        "# Menampilkan ukuran lebar & tinggi \n",
        "print(\"w = {} pixel, h = {} pixel\".format(w,h))\n",
        "print(\"w = {} cm, h = {} cm\".format(width_cm,heigt_cm))\n",
        "\n",
        "# Menampilkan Hasil Luas & Keliling\n",
        "print(\"Luas = {} cm^2\".format(luas))\n",
        "print(\"Keliling = {} cm\".format(keliling))\n",
        "cv2_imshow(result)"
      ],
      "metadata": {
        "colab": {
          "base_uri": "https://localhost:8080/",
          "height": 1000
        },
        "id": "BhPkUp2wapMu",
        "outputId": "bfcb77f2-720a-49f7-feed-fded00fbf5df"
      },
      "execution_count": null,
      "outputs": [
        {
          "output_type": "stream",
          "name": "stdout",
          "text": [
            "Image Asli\n"
          ]
        },
        {
          "output_type": "display_data",
          "data": {
            "text/plain": [
              "<PIL.Image.Image image mode=RGB size=200x200 at 0x7FC1DDFC3D50>"
            ],
            "image/png": "[encoded data removed]"
          },
          "metadata": {}
        },
        {
          "output_type": "stream",
          "name": "stdout",
          "text": [
            "Masking warna pada HSV untuk mendapatkan warna objek yang diinginkan\n"
          ]
        },
        {
          "output_type": "display_data",
          "data": {
            "text/plain": [
              "<PIL.Image.Image image mode=L size=200x200 at 0x7FC1DD8DB690>"
            ],
            "image/png": "[encoded data removed]"
          },
          "metadata": {}
        },
        {
          "output_type": "stream",
          "name": "stdout",
          "text": [
            "Hasil Konversi RGB ke HSV\n"
          ]
        },
        {
          "output_type": "display_data",
          "data": {
            "text/plain": [
              "<PIL.Image.Image image mode=RGB size=200x200 at 0x7FC1DD8DB550>"
            ],
            "image/png": "[encoded data removed]"
          },
          "metadata": {}
        },
        {
          "output_type": "stream",
          "name": "stdout",
          "text": [
            "Hasil deteksi bentuk objek dengan canny\n"
          ]
        },
        {
          "output_type": "display_data",
          "data": {
            "text/plain": [
              "<PIL.Image.Image image mode=L size=200x200 at 0x7FC1DDFC3310>"
            ],
            "image/png": "[encoded data removed]"
          },
          "metadata": {}
        },
        {
          "output_type": "stream",
          "name": "stdout",
          "text": [
            "Segi Empat\n",
            "w = 112 pixel, h = 112 pixel\n",
            "w = 2.9632959999999997 cm, h = 2.9632959999999997 cm\n",
            "Luas = 8.781123183615998 cm^2\n",
            "Keliling = 11.853183999999999 cm\n"
          ]
        },
        {
          "output_type": "display_data",
          "data": {
            "text/plain": [
              "<PIL.Image.Image image mode=RGB size=200x200 at 0x7FC1DDFC3D50>"
            ],
            "image/png": "[encoded data removed]"
          },
          "metadata": {}
        }
      ]
    },
    {
      "cell_type": "markdown",
      "source": [
        "# Hitung Luas dengan Algoritma Morfologi"
      ],
      "metadata": {
        "id": "X-6mfmvvPsYm"
      }
    },
    {
      "cell_type": "code",
      "source": [
        "# Import library\n",
        "import cv2\n",
        "from google.colab.patches import cv2_imshow\n",
        "import numpy as np\n",
        "from matplotlib import pyplot as plt\n",
        "from skimage import io\n",
        "import skimage.measure\n",
        "\n",
        "# Baca Citra\n",
        "image = cv2.imread(\"/content/drive/MyDrive/PCVK/FinalProject/Square_cf5f3a36-2a9a-11ea-8123-8363a7ec19e6.png\")\n",
        "print(\"Citra Input (Citra Asli)\")\n",
        "cv2_imshow(image)\n",
        "\n",
        "# Ubah Citra ke bentuk biner\n",
        "# thresh = 127\n",
        "grayImg = cv2.cvtColor(image, cv2.COLOR_BGR2GRAY)\n",
        "thresh = cv2.threshold(grayImg, 127, 255, cv2.THRESH_BINARY)[1]\n",
        "print(\"Citra Biner\")\n",
        "cv2_imshow(thresh)\n",
        "\n",
        "# Negasi citra\n",
        "if thresh[0, x] == 255:\n",
        "  negasi_img = ~thresh\n",
        "  print(\"Citra negasi Biner agar objek ditunjukkan dengan warna putih\")\n",
        "  cv2_imshow(negasi_img)\n",
        "# Applying cv2.connectedComponents() \n",
        "  num_labels, labels = cv2.connectedComponents(negasi_img)\n",
        "else:\n",
        "  num_labels, labels = cv2.connectedComponents(thresh)\n",
        "\n",
        "# Map component labels to hue val, 0-179 is the hue range in OpenCV\n",
        "label_hue = np.uint8(179*labels/np.max(labels))\n",
        "blank_ch = 255*np.ones_like(label_hue)\n",
        "labeled_img = cv2.merge([label_hue, blank_ch, blank_ch])\n",
        "\n",
        "# Converting cvt to BGR\n",
        "labeled_img = cv2.cvtColor(labeled_img, cv2.COLOR_HSV2RGB)\n",
        "\n",
        "# set bg label to black\n",
        "labeled_img[label_hue==0] = 0\n",
        "\n",
        "# Hitung  jumlah pixel yang masuk pada connected-component\n",
        "img_area = cv2.cvtColor(labeled_img, cv2.COLOR_RGB2GRAY)\n",
        "area = cv2.countNonZero(img_area)\n",
        "area_cm = area/1440\n",
        "\n",
        "# menampilkan Hasil\n",
        "print(\"Citra connected-component labeling\")\n",
        "cv2_imshow(labeled_img)\n",
        "print(\"Luas: {} pixel\".format(area))\n",
        "print(\"Luas: {} cm^2\".format(area_cm))"
      ],
      "metadata": {
        "id": "4hio6ERPK3J6",
        "colab": {
          "base_uri": "https://localhost:8080/",
          "height": 921
        },
        "outputId": "7389c664-b43a-404e-cacd-7764a804b624"
      },
      "execution_count": null,
      "outputs": [
        {
          "output_type": "stream",
          "name": "stdout",
          "text": [
            "Citra Input (Citra Asli)\n"
          ]
        },
        {
          "output_type": "display_data",
          "data": {
            "text/plain": [
              "<PIL.Image.Image image mode=RGB size=200x200 at 0x7FC1DD912C90>"
            ],
            "image/png": "[encoded data removed]"
          },
          "metadata": {}
        },
        {
          "output_type": "stream",
          "name": "stdout",
          "text": [
            "Citra Biner\n"
          ]
        },
        {
          "output_type": "display_data",
          "data": {
            "text/plain": [
              "<PIL.Image.Image image mode=L size=200x200 at 0x7FC1DD8DB890>"
            ],
            "image/png": "[encoded data removed]"
          },
          "metadata": {}
        },
        {
          "output_type": "stream",
          "name": "stdout",
          "text": [
            "Citra negasi Biner agar objek ditunjukkan dengan warna putih\n"
          ]
        },
        {
          "output_type": "display_data",
          "data": {
            "text/plain": [
              "<PIL.Image.Image image mode=L size=200x200 at 0x7FC1DD8DBAD0>"
            ],
            "image/png": "[encoded data removed]"
          },
          "metadata": {}
        },
        {
          "output_type": "stream",
          "name": "stdout",
          "text": [
            "Citra connected-component labeling\n"
          ]
        },
        {
          "output_type": "display_data",
          "data": {
            "text/plain": [
              "<PIL.Image.Image image mode=RGB size=200x200 at 0x7FC1DD912F10>"
            ],
            "image/png": "[encoded data removed]"
          },
          "metadata": {}
        },
        {
          "output_type": "stream",
          "name": "stdout",
          "text": [
            "Luas: 12321 pixel\n",
            "Luas: 8.55625 cm^2\n"
          ]
        }
      ]
    },
    {
      "cell_type": "markdown",
      "source": [
        "# Keliling dengan algoritma Morfologi"
      ],
      "metadata": {
        "id": "k7n9mOb0PzZu"
      }
    },
    {
      "cell_type": "code",
      "source": [
        "# Import library\n",
        "import cv2\n",
        "from google.colab.patches import cv2_imshow\n",
        "import numpy as np\n",
        "from matplotlib import pyplot as plt\n",
        "from skimage import io\n",
        "import skimage.measure\n",
        "\n",
        "# Baca Citra\n",
        "image = cv2.imread(\"/content/drive/MyDrive/PCVK/FinalProject/Square_cf5f3a36-2a9a-11ea-8123-8363a7ec19e6.png\")\n",
        "print(\"Citra Input (Citra Asli)\")\n",
        "cv2_imshow(image)\n",
        "\n",
        "# Ubah Citra ke bentuk biner\n",
        "# thresh = 127\n",
        "grayImg = cv2.cvtColor(image, cv2.COLOR_BGR2GRAY)\n",
        "thresh = cv2.threshold(grayImg, 127, 255, cv2.THRESH_BINARY)[1]\n",
        "print(\"Citra Biner\")\n",
        "cv2_imshow(thresh)\n",
        "\n",
        "# Menentukan strel (structuring element) yang digunakan \n",
        "mask = np.ones((5,5), np.uint8) #square\n",
        "\n",
        "# Negasi citra\n",
        "if thresh[0, x] == 255:\n",
        "  negasi_img = ~thresh\n",
        "  print(\"Citra negasi Biner agar objek ditunjukkan dengan warna putih\")\n",
        "  cv2_imshow(negasi_img)\n",
        "  # Operasi Dilasi\n",
        "  img_dilasi = cv2.morphologyEx(negasi_img, cv2.MORPH_DILATE, mask)\n",
        "\n",
        "  # Operasi erosi\n",
        "  img_erosi = cv2.morphologyEx(negasi_img, cv2.MORPH_ERODE, mask)\n",
        "\n",
        "else:\n",
        "  # Operasi Dilasi\n",
        "  img_dilasi = cv2.morphologyEx(thresh, cv2.MORPH_DILATE, mask)\n",
        "\n",
        "  # Operasi erosi\n",
        "  img_erosi = cv2.morphologyEx(thresh, cv2.MORPH_ERODE, mask)\n",
        "\n",
        "# Menampilkan Citra Hasil Dilasi dan Erosi\n",
        "print(\"Citra Dilasi\")\n",
        "cv2_imshow(img_dilasi)\n",
        "print(\"Citra Erosi\")\n",
        "cv2_imshow(img_erosi)\n",
        "\n",
        "# Operasi morphological gradient (dilated_image – eroded_image)\n",
        "morph_gradient = img_dilasi - img_erosi\n",
        "print(\"Citra Morphological Gradient\")\n",
        "cv2_imshow(morph_gradient)\n",
        "\n",
        "# Applying cv2.connectedComponents() \n",
        "num_labels, labels = cv2.connectedComponents(morph_gradient)\n",
        "# else:\n",
        "  # num_labels, labels = cv2.connectedComponents(thresh)\n",
        "\n",
        "# Map component labels to hue val, 0-179 is the hue range in OpenCV\n",
        "label_hue = np.uint8(179*labels/np.max(labels))\n",
        "blank_ch = 255*np.ones_like(label_hue)\n",
        "labeled_img = cv2.merge([label_hue, blank_ch, blank_ch])\n",
        "# Converting cvt to BGR\n",
        "labeled_img = cv2.cvtColor(labeled_img, cv2.COLOR_HSV2RGB)\n",
        "# set bg label to black\n",
        "labeled_img[label_hue==0] = 0\n",
        "print(\"Citra connected-component labeling\")\n",
        "cv2_imshow(labeled_img)\n",
        "\n",
        "# Hitung jumlah pixel yang masuk pada connected-component\n",
        "img_keliling = cv2.cvtColor(labeled_img, cv2.COLOR_RGB2GRAY)\n",
        "keliling = cv2.countNonZero(img_keliling)\n",
        "keliling_cm = keliling/152\n",
        "print(\"Keliling: {} pixel\".format(keliling))\n",
        "print(\"Keliling: {} cm\".format(keliling_cm))"
      ],
      "metadata": {
        "colab": {
          "base_uri": "https://localhost:8080/",
          "height": 1000
        },
        "id": "xRDIpX147GT8",
        "outputId": "1d5ac5e6-c8d7-4079-d978-a526b8076f36"
      },
      "execution_count": null,
      "outputs": [
        {
          "output_type": "stream",
          "name": "stdout",
          "text": [
            "Citra Input (Citra Asli)\n"
          ]
        },
        {
          "output_type": "display_data",
          "data": {
            "text/plain": [
              "<PIL.Image.Image image mode=RGB size=200x200 at 0x7FC1DD8DBA90>"
            ],
            "image/png": "[encoded data removed]"
          },
          "metadata": {}
        },
        {
          "output_type": "stream",
          "name": "stdout",
          "text": [
            "Citra Biner\n"
          ]
        },
        {
          "output_type": "display_data",
          "data": {
            "text/plain": [
              "<PIL.Image.Image image mode=L size=200x200 at 0x7FC1DDFC3290>"
            ],
            "image/png": "[encoded data removed]"
          },
          "metadata": {}
        },
        {
          "output_type": "stream",
          "name": "stdout",
          "text": [
            "Citra negasi Biner agar objek ditunjukkan dengan warna putih\n"
          ]
        },
        {
          "output_type": "display_data",
          "data": {
            "text/plain": [
              "<PIL.Image.Image image mode=L size=200x200 at 0x7FC1DDFC3B90>"
            ],
            "image/png": "[encoded data removed]"
          },
          "metadata": {}
        },
        {
          "output_type": "stream",
          "name": "stdout",
          "text": [
            "Citra Dilasi\n"
          ]
        },
        {
          "output_type": "display_data",
          "data": {
            "text/plain": [
              "<PIL.Image.Image image mode=L size=200x200 at 0x7FC1DDFC3A90>"
            ],
            "image/png": "[encoded data removed]"
          },
          "metadata": {}
        },
        {
          "output_type": "stream",
          "name": "stdout",
          "text": [
            "Citra Erosi\n"
          ]
        },
        {
          "output_type": "display_data",
          "data": {
            "text/plain": [
              "<PIL.Image.Image image mode=L size=200x200 at 0x7FC1DD8DB450>"
            ],
            "image/png": "[encoded data removed]"
          },
          "metadata": {}
        },
        {
          "output_type": "stream",
          "name": "stdout",
          "text": [
            "Citra Morphological Gradient\n"
          ]
        },
        {
          "output_type": "display_data",
          "data": {
            "text/plain": [
              "<PIL.Image.Image image mode=L size=200x200 at 0x7FC1EFC54110>"
            ],
            "image/png": "[encoded data removed]"
          },
          "metadata": {}
        },
        {
          "output_type": "stream",
          "name": "stdout",
          "text": [
            "Citra connected-component labeling\n"
          ]
        },
        {
          "output_type": "display_data",
          "data": {
            "text/plain": [
              "<PIL.Image.Image image mode=RGB size=200x200 at 0x7FC1EFC54ED0>"
            ],
            "image/png": "[encoded data removed]"
          },
          "metadata": {}
        },
        {
          "output_type": "stream",
          "name": "stdout",
          "text": [
            "Keliling: 1776 pixel\n",
            "Keliling: 11.68421052631579 cm\n"
          ]
        }
      ]
    }
  ]
}